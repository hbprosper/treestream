{
 "cells": [
  {
   "cell_type": "markdown",
   "metadata": {},
   "source": [
    "# Example: reading/writing flat ROOT ntuples with treestream. \n",
    " >__Created__:  24-Sep-2018 Harrison B. Prosper\n",
    " \n",
    " \n",
    "Writing code to create and and read flat __ROOT__ ntuples (ones that store the standard types, __int__, __long__, __float__, __double__, __string__ and arrays thereof) is a routine task. It is so routine in fact that this chore ought to be done for you...by a machine. That is the purpose of the package __treestream__. It handles all the boilerplate __ROOT__ code for creating and reading flat __ROOT__ ntuples and does so through a very simple interface. __treestream__ is the modern incarnation of a package written in 2001 when the author finally got fed up of writing the same boilerplate code to create and read flat ntuples.\n",
    "\n",
    "The package contains two classes __itreestream__ and __otreestream__ that can be called from C++ or __Python__. This example shows how to  use them."
   ]
  },
  {
   "cell_type": "code",
   "execution_count": 1,
   "metadata": {},
   "outputs": [
    {
     "name": "stdout",
     "output_type": "stream",
     "text": [
      "Welcome to JupyROOT 6.14/04\n",
      "loaded treestream\n"
     ]
    }
   ],
   "source": [
    "import os, sys\n",
    "import ROOT as rt\n",
    "from ctypes import c_int, c_double\n",
    "from treestream import itreestream, otreestream\n",
    "# turn off ROOT use of javascript\n",
    "%jsroot off"
   ]
  },
  {
   "cell_type": "markdown",
   "metadata": {},
   "source": [
    "### Write a flat ROOT ntuple"
   ]
  },
  {
   "cell_type": "code",
   "execution_count": 2,
   "metadata": {},
   "outputs": [],
   "source": [
    "def write_ntuple(filename=\"test.root\", treename=\"Events\"):\n",
    "    from time import ctime\n",
    "    print \"write: %s\" % filename\n",
    "    \n",
    "    stream = otreestream(filename, treename, ctime())\n",
    "\n",
    "    # declare variables to be written to ntuple\n",
    "    # warning:\n",
    "    # since Python is a dynamically typed language, writing\n",
    "    # njet = 42\n",
    "    # will change the type of njet! Instead:\n",
    "    # 1. use the value attribute of the ctypes to get and \n",
    "    #    set their values\n",
    "    # 2. use the STL vector methods in the usual way\n",
    "    # 3. use the assign method to assign to the STL string\n",
    "    ht      = c_double()\n",
    "    njet    = c_int()\n",
    "    jetet   = rt.vector(\"double\")(20)\n",
    "    comment = rt.string(80*' ')\n",
    "    \n",
    "    # -------------------------------------------------\n",
    "    # make variables known to output tree \"Events\" \n",
    "    # by creating a branch for each variable\n",
    "    # -------------------------------------------------\n",
    "    # create branch HT of type double\n",
    "    stream.add(\"HT\", ht)\n",
    "    \n",
    "    # create branches njet of type int and jetEt of type\n",
    "    # double. together these define a ROOT variable \n",
    "    # length array, where njet is the counter variable of\n",
    "    # the array and jetEt is the variable length structure\n",
    "    # with the data, which treestream assumes is modeled\n",
    "    # with an STL vector. \n",
    "    stream.add(\"njet\", njet)\n",
    "    stream.add(\"jetEt[njet]\", jetet)\n",
    "    \n",
    "    # create branch comment of type string\n",
    "    stream.add(\"comment\", comment)\n",
    "\n",
    "    # loop over data to be written out\n",
    "    rand    = rt.TRandom3()\n",
    "    entries = 1000\n",
    "    step    = 200\n",
    "    for entry in range(entries):\n",
    "\n",
    "        # generate some data\n",
    "        njet.value = rand.Integer(10)\n",
    "        jetet.clear()\n",
    "        ht.value = 0.0 # see ctypes documentation\n",
    "        for i in range(njet.value):\n",
    "            jetet.push_back(rand.Exp(10))\n",
    "            ht.value += jetet[i]\n",
    "        comment.assign(\"event: %5d njet = %2d\" % \\\n",
    "                       (entry + 1, njet.value))\n",
    "\n",
    "        # commit data to root file\n",
    "        stream.commit()\n",
    "\n",
    "        if entry % step == 0:\n",
    "            print \"%5d%5d%10.2f (%s)\" % (entry, \n",
    "                                         jetet.size(), \n",
    "                                         ht.value, \n",
    "                                         comment)\n",
    "        \n",
    "    stream.close()"
   ]
  },
  {
   "cell_type": "markdown",
   "metadata": {},
   "source": [
    "### Read a flat ROOT ntuple"
   ]
  },
  {
   "cell_type": "code",
   "execution_count": 3,
   "metadata": {},
   "outputs": [],
   "source": [
    "def read_ntuple(filename=\"test.root\", treename=\"Events\"):\n",
    "    print \"read: %s\" % filename\n",
    "    stream = itreestream(filename, treename)\n",
    "    stream.ls()\n",
    "\n",
    "    # declare variables to receive data\n",
    "    # note variable length arrays are mapped to STL vectors and\n",
    "    # note that here the type differs (float) from that stored\n",
    "    # in the ntuple (double)\n",
    "    HT      = c_double()\n",
    "    ET      = rt.vector(\"float\")(20)\n",
    "    comment = rt.string(80*' ')\n",
    "\n",
    "    # select which variables (branches) to \n",
    "    # read and where to copy their data.\n",
    "    stream.select(\"jetEt\",   ET)\n",
    "    stream.select(\"comment\", comment)\n",
    "    stream.select(\"HT\",      HT)\n",
    "    \n",
    "    entries = stream.entries()\n",
    "    step    = 200\n",
    "    for entry in range(entries):\n",
    "        # read event into memory\n",
    "        stream.read(entry)\n",
    "        if entry % step == 0:\n",
    "            print \"%5d%5d%10.2f (%s)\" % (entry, \n",
    "                                         ET.size(), \n",
    "                                         HT.value, \n",
    "                                         comment)       \n",
    "    stream.close()    "
   ]
  },
  {
   "cell_type": "code",
   "execution_count": 4,
   "metadata": {},
   "outputs": [],
   "source": [
    "def main():\n",
    "    write_ntuple()\n",
    "    print\n",
    "    read_ntuple()"
   ]
  },
  {
   "cell_type": "code",
   "execution_count": 5,
   "metadata": {},
   "outputs": [
    {
     "name": "stdout",
     "output_type": "stream",
     "text": [
      "write: test.root\n",
      "    0    9     65.75 (event:     1 njet =  9)\n",
      "  200    1     23.90 (event:   201 njet =  1)\n",
      "  400    4     45.96 (event:   401 njet =  4)\n",
      "  600    2     50.98 (event:   601 njet =  2)\n",
      "  800    9     98.88 (event:   801 njet =  9)\n",
      "\n",
      "read: test.root\n",
      "    0    9     65.75 (event:     1 njet =  9)\n",
      "  200    1     23.90 (event:   201 njet =  1)\n",
      "  400    4     45.96 (event:   401 njet =  4)\n",
      "  600    2     50.98 (event:   601 njet =  2)\n",
      "  800    9     98.88 (event:   801 njet =  9)\n",
      "File test.root\n",
      "Tree   Events\n",
      "Entries  1000\n",
      "\n",
      "    1 Events/HT \t/ Double_t\n",
      "    2 Events/comment \t/ Char_t [23]\n",
      "    3 Events/jetEt \t/ Double_t \t(9) / njet\n",
      "    4 Events/njet \t/ Int_t *\n"
     ]
    }
   ],
   "source": [
    "main()"
   ]
  },
  {
   "cell_type": "code",
   "execution_count": null,
   "metadata": {},
   "outputs": [],
   "source": []
  }
 ],
 "metadata": {
  "kernelspec": {
   "display_name": "Python 2",
   "language": "python",
   "name": "python2"
  },
  "language_info": {
   "codemirror_mode": {
    "name": "ipython",
    "version": 2
   },
   "file_extension": ".py",
   "mimetype": "text/x-python",
   "name": "python",
   "nbconvert_exporter": "python",
   "pygments_lexer": "ipython2",
   "version": "2.7.14"
  }
 },
 "nbformat": 4,
 "nbformat_minor": 1
}
